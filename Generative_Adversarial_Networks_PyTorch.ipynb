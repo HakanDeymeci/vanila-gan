{
  "nbformat": 4,
  "nbformat_minor": 0,
  "metadata": {
    "colab": {
      "name": "Generative_Adversarial_Networks_PyTorch.ipynb",
      "provenance": [],
      "collapsed_sections": []
    }
  },
  "cells": [
    {
      "cell_type": "markdown",
      "metadata": {
        "tags": [
          "pdf-ignore"
        ],
        "id": "5wrV7uqouv46",
        "colab_type": "text"
      },
      "source": [
        "## Setup Example"
      ]
    },
    {
      "cell_type": "code",
      "metadata": {
        "tags": [
          "pdf-ignore"
        ],
        "id": "DAsBlsXouv47",
        "colab_type": "code",
        "colab": {}
      },
      "source": [
        "import torch\n",
        "import torch.nn as nn\n",
        "import torch.optim as optim\n",
        "from torch.autograd.variable import Variable\n",
        "from torchvision import transforms\n",
        "from torchvision.datasets import MNIST\n",
        "from torchvision.utils import make_grid\n",
        "from torch.utils.data import DataLoader\n",
        "import imageio\n",
        "...\n"
      ],
      "execution_count": 0,
      "outputs": []
    },
    {
      "cell_type": "markdown",
      "metadata": {
        "tags": [
          "pdf-ignore"
        ],
        "id": "5py7tSaQuv5J",
        "colab_type": "text"
      },
      "source": [
        "## Dataset\n",
        "To simplify, the PyTorch MNIST wrapper, which downloads and loads the MNIST dataset. See the [documentation](https://github.com/pytorch/vision/blob/master/torchvision/datasets/mnist.py) for more information about the interface. The default parameters will take 5,000 of the training examples and place them into a validation dataset. The data will be saved into a folder called `MNIST_data`. "
      ]
    },
    {
      "cell_type": "code",
      "metadata": {
        "scrolled": false,
        "tags": [
          "pdf-ignore"
        ],
        "id": "esOAWRXCuv5K",
        "colab_type": "code",
        "colab": {}
      },
      "source": [
        "Data loader code"
      ],
      "execution_count": 0,
      "outputs": []
    },
    {
      "cell_type": "markdown",
      "metadata": {
        "id": "RwgVNkFsuv5P",
        "colab_type": "text"
      },
      "source": [
        "## Random Noise\n",
        "Generate uniform noise from -1 to 1 with shape `[batch_size, dim]`. Implement `sample_noise` Hint: use `torch.rand`. Make sure noise is the correct shape and type:"
      ]
    },
    {
      "cell_type": "code",
      "metadata": {
        "id": "sample_noise_test",
        "colab_type": "code",
        "colab": {}
      },
      "source": [
        "\n",
        "def sample_noise(): \n",
        " "
      ],
      "execution_count": 0,
      "outputs": []
    },
    {
      "cell_type": "markdown",
      "metadata": {
        "id": "ExIJoKUtuv5h",
        "colab_type": "text"
      },
      "source": [
        "# Discriminator\n",
        "Our first step is to build a discriminator. Fill in the architecture: A three hidden-layer discriminative neural network.\n",
        " * Fully connected layer \n",
        " * LeakyReLU \n",
        " * Fully connected layer \n",
        " * LeakyReLU \n",
        " * Fully connected layer "
      ]
    },
    {
      "cell_type": "code",
      "metadata": {
        "id": "KZFHf7sxuv5i",
        "colab_type": "code",
        "colab": {}
      },
      "source": [
        "class DiscriminatorNet(torch.nn.Module):\n",
        "\n",
        "    def __init__(self):\n",
        "        super(DiscriminatorNet, self).__init__()    \n",
        "\n",
        "    def forward(self, x):\n",
        "\n",
        "        return x\n"
      ],
      "execution_count": 0,
      "outputs": []
    },
    {
      "cell_type": "markdown",
      "metadata": {
        "id": "BZuso5Ltuv5k",
        "colab_type": "text"
      },
      "source": [
        "# Generator\n",
        "Similar like above:\n",
        " * Fully connected layer\n",
        " * `ReLU`\n",
        " * Fully connected layer\n",
        " * `ReLU`\n",
        " * Fully connected layer\n",
        " * `TanH` (to clip the image to be in the range of [-1,1])\n",
        " "
      ]
    },
    {
      "cell_type": "code",
      "metadata": {
        "id": "W5SWNf6quv5m",
        "colab_type": "code",
        "colab": {}
      },
      "source": [
        "class GeneratorNet(torch.nn.Module):\n",
        "\n",
        "    def __init__(self):\n",
        "        super(GeneratorNet, self).__init__()\n",
        "\n",
        "    def forward(self, x):"
      ],
      "execution_count": 0,
      "outputs": []
    },
    {
      "cell_type": "markdown",
      "metadata": {
        "id": "XzaT3o-Tuv5v",
        "colab_type": "text"
      },
      "source": [
        "# Optimization\n",
        "Make a function that returns an `optim.Adam` optimizer"
      ]
    },
    {
      "cell_type": "code",
      "metadata": {
        "id": "y6TZIj9y3NtB",
        "colab_type": "code",
        "colab": {}
      },
      "source": [
        "# Optimizers\n",
        "\n",
        "# Loss function\n",
        "loss = nn.BCELoss()\n"
      ],
      "execution_count": 0,
      "outputs": []
    },
    {
      "cell_type": "markdown",
      "metadata": {
        "id": "CjAfRT_suv5w",
        "colab_type": "text"
      },
      "source": [
        "# Training a GAN!\n",
        "\n"
      ]
    },
    {
      "cell_type": "code",
      "metadata": {
        "scrolled": true,
        "id": "71ZbhmWsuv5z",
        "colab_type": "code",
        "colab": {}
      },
      "source": [
        "def real_data_target(size):\n",
        "    \n",
        "    return data\n",
        "\n",
        "def fake_data_target(size):\n",
        "\n",
        "    return data"
      ],
      "execution_count": 0,
      "outputs": []
    },
    {
      "cell_type": "code",
      "metadata": {
        "id": "mW40rGb74dBa",
        "colab_type": "code",
        "colab": {}
      },
      "source": [
        "def train_discriminator(optimizer, real_data, fake_data):\n",
        "    # Reset gradients\n",
        "   \n",
        "    # Train on Real Data\n",
        "    # Calculate error and backpropagate\n",
        "\n",
        "    # Train on Fake Data\n",
        "    # Calculate error and backpropagate \n",
        "    # Update weights with gradients\n",
        "    \n",
        "    # Return error\n",
        "    return \n",
        "def train_generator(optimizer, fake_data):\n",
        "    # Reset gradients\n",
        "    # Sample noise and generate fake data\n",
        "    # Calculate error and backpropagate\n",
        "    # Update weights with gradients\n",
        "    # Return error\n",
        "    return"
      ],
      "execution_count": 0,
      "outputs": []
    },
    {
      "cell_type": "code",
      "metadata": {
        "id": "trsS-BrXERnb",
        "colab_type": "code",
        "colab": {}
      },
      "source": [
        "logger = Logger(model_name='VGAN', data_name='MNIST')\n",
        "\n",
        "for epoch in range(num_epochs):\n",
        "    for n_batch, (real_batch,_) in enumerate(data_loader):\n",
        "\n",
        "        # Train Discriminator\n",
        "        # Generate fake data\n",
        "        # Train D\n",
        "\n",
        "\n",
        "        # Train Generator\n",
        "        # Generate fake data\n",
        "        # Train G\n",
        "        # Log error\n",
        "\n",
        "        # Model Checkpoints\n",
        "        logger.save_models(generator, discriminator, epoch)"
      ],
      "execution_count": 0,
      "outputs": []
    }
  ]
}